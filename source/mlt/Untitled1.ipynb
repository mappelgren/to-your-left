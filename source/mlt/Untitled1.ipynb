{
 "cells": [
  {
   "cell_type": "code",
   "execution_count": 3,
   "id": "11d40893-83e8-462d-8771-de45285d5ac5",
   "metadata": {},
   "outputs": [],
   "source": [
    "from feature_extractors import ResnetFeatureExtractor\n",
    "import torch\n",
    "from torchvision.models import ResNet101_Weights, resnet101\n",
    "import os\n",
    "import h5py\n",
    "from PIL import Image\n",
    "import numpy as np"
   ]
  },
  {
   "cell_type": "code",
   "execution_count": null,
   "id": "2696d3ce-7cea-442b-87b7-3b549c9bac90",
   "metadata": {},
   "outputs": [],
   "source": [
    "--image_dir ~/clevr-images-unambigous-dale-two/images/ --scene_dir ~/clevr-images-unambigous-dale-two/scenes/ --out_file ~/clevr-images-unambigous-dale-two/features/resnet_3_noavgpool_no-fc2.h5 --feature_extractor ResNet --no-avgpool --no-fc --num_blocks 3 --device cuda --batch_size 32"
   ]
  },
  {
   "cell_type": "code",
   "execution_count": 11,
   "id": "b2301638-927d-4e3e-9397-337089924f59",
   "metadata": {},
   "outputs": [],
   "source": [
    "device = torch.device(\"cuda\")\n",
    "feature_extractor = ResnetFeatureExtractor(pretrained=True, fine_tune=False, number_blocks=3, avgpool=False, fc=False).to(device)\n",
    "\n",
    "preprocess = ResNet101_Weights.IMAGENET1K_V2.transforms()"
   ]
  },
  {
   "cell_type": "code",
   "execution_count": 20,
   "id": "97c25d51-9695-453f-bfcc-7e64394b82e0",
   "metadata": {},
   "outputs": [],
   "source": [
    "image_dir = \"/home/xappma/clevr-images-unambigous-dale-two/images/\"\n",
    "images = sorted(os.listdir(image_dir))\n",
    "shape = [len(images), *feature_extractor.feature_shape]"
   ]
  },
  {
   "cell_type": "code",
   "execution_count": 21,
   "id": "d59509af-0b9d-4437-8c82-dd930c68e010",
   "metadata": {},
   "outputs": [],
   "source": [
    "batch_size = 32"
   ]
  },
  {
   "cell_type": "code",
   "execution_count": 32,
   "id": "acf5d586-5a4a-4c70-8ee0-19288b0bf561",
   "metadata": {},
   "outputs": [
    {
     "name": "stdout",
     "output_type": "stream",
     "text": [
      "processing image 9984...\n"
     ]
    }
   ],
   "source": [
    "with h5py.File(\"test.h5py\", \"w\") as f:\n",
    "    feature_dataset = f.create_dataset(\"features\", shape, dtype=np.float32)\n",
    "    ohter_dataset = f.create_dataset(\"other\", shape, dtype=np.float32)\n",
    "    feature_dataset.attrs[\"image_size\"] = Image.open(\n",
    "        os.path.join(image_dir, images[0])\n",
    "    ).size\n",
    "    batch = []\n",
    "    i_start = 0\n",
    "    for image_index, image_file in enumerate(images):\n",
    "        if image_index % batch_size == 0:\n",
    "            print(f\"processing image {image_index}...\", end=\"\\r\")\n",
    "    \n",
    "        image = Image.open(os.path.join(image_dir, image_file)).convert(\n",
    "            \"RGB\"\n",
    "        )\n",
    "        preprocessed_image = preprocess(image).to(device)\n",
    "        batch.append(preprocessed_image)\n",
    "    \n",
    "        if len(batch) == batch_size or image_index == len(images) - 1:\n",
    "            with torch.no_grad():\n",
    "                # pylint: disable-next=not-callable\n",
    "                features = feature_extractor(torch.stack(batch)).cpu()\n",
    "            i_end = i_start + len(batch)\n",
    "            feature_dataset[i_start:i_end] = features\n",
    "            ohter_dataset[i_start:i_end] = features\n",
    "    \n",
    "            i_start = i_end\n",
    "            batch = []\n",
    "    print()\n"
   ]
  },
  {
   "cell_type": "code",
   "execution_count": 33,
   "id": "4758e7f1-fbda-4380-9ca3-cd78af72453c",
   "metadata": {},
   "outputs": [
    {
     "name": "stdout",
     "output_type": "stream",
     "text": [
      "[[[3.8073244  2.6239595  4.339472   ... 5.325759   2.782626   4.3295035 ]\n",
      "  [8.308824   6.6276407  7.509774   ... 5.86327    7.785393   8.902941  ]\n",
      "  [3.3584938  3.2338123  5.528773   ... 2.0243895  4.3621306  6.3857875 ]\n",
      "  ...\n",
      "  [1.6492925  1.4835947  1.6650604  ... 2.3154776  0.87608    0.8543335 ]\n",
      "  [6.2306514  7.324578   3.187983   ... 2.046173   1.794639   2.6868978 ]\n",
      "  [1.8481137  1.4104245  1.4879092  ... 1.6555399  0.6400337  0.83423305]]\n",
      "\n",
      " [[1.7858517  0.         0.         ... 0.         0.         1.5440044 ]\n",
      "  [0.88440037 0.         0.         ... 0.09728736 1.2225254  0.        ]\n",
      "  [2.2111716  0.7295412  3.8566332  ... 0.3129365  3.9986446  6.581839  ]\n",
      "  ...\n",
      "  [0.4817189  0.         0.         ... 0.04168516 0.         1.1300035 ]\n",
      "  [0.         0.         0.         ... 0.         0.         0.6798581 ]\n",
      "  [0.         0.         1.2156646  ... 0.         0.         0.        ]]\n",
      "\n",
      " [[0.7791131  1.0179651  1.1035043  ... 1.0819919  1.1234807  1.6286753 ]\n",
      "  [1.5182847  2.291483   1.9323097  ... 1.3074462  2.1454628  1.1048645 ]\n",
      "  [0.58603084 1.0335066  1.143608   ... 0.26969814 1.8272536  0.62347054]\n",
      "  ...\n",
      "  [0.5337808  0.428704   1.1201942  ... 1.9033363  0.8485847  0.48262164]\n",
      "  [0.05990705 0.9418491  0.6821133  ... 0.73200554 1.1545527  0.03068971]\n",
      "  [0.81028897 0.14887878 0.8094104  ... 1.9188931  0.         1.4281516 ]]\n",
      "\n",
      " ...\n",
      "\n",
      " [[0.         0.4103101  0.         ... 0.         0.         0.        ]\n",
      "  [2.3055542  0.52355343 2.902495   ... 0.2607057  0.         1.3040348 ]\n",
      "  [0.         0.         0.9534582  ... 0.         0.86839956 1.4192276 ]\n",
      "  ...\n",
      "  [0.         0.3441462  0.04780618 ... 0.8024411  1.5501688  0.        ]\n",
      "  [0.         0.36312744 0.70579046 ... 0.2734525  1.2334384  0.13525528]\n",
      "  [0.         0.         0.         ... 0.57741314 0.         0.        ]]\n",
      "\n",
      " [[1.8350415  0.06480318 1.6411947  ... 2.0579607  0.         2.8670022 ]\n",
      "  [1.0014273  0.         0.         ... 0.         0.         0.        ]\n",
      "  [2.0270839  0.11794212 2.3795326  ... 0.16359088 0.         0.5354838 ]\n",
      "  ...\n",
      "  [0.92436135 0.61314654 0.5631833  ... 3.0160425  1.0480146  0.52664995]\n",
      "  [0.32755923 0.38496187 0.27138048 ... 0.5565201  0.9544418  0.3424813 ]\n",
      "  [1.7863338  0.11887696 1.1728027  ... 0.7854195  0.56262916 1.7496928 ]]\n",
      "\n",
      " [[0.         0.         0.         ... 0.         0.         0.        ]\n",
      "  [0.         0.         0.         ... 0.         2.85422    0.        ]\n",
      "  [0.         0.         0.         ... 0.         0.8497373  0.        ]\n",
      "  ...\n",
      "  [1.4111892  0.         0.         ... 0.         0.21703617 0.13804458]\n",
      "  [1.5118496  0.         0.         ... 0.         0.         0.87161285]\n",
      "  [2.3007658  2.6551723  2.3754115  ... 0.3303251  2.1088417  0.        ]]]\n",
      "[[[3.8073244  2.6239595  4.339472   ... 5.325759   2.782626   4.3295035 ]\n",
      "  [8.308824   6.6276407  7.509774   ... 5.86327    7.785393   8.902941  ]\n",
      "  [3.3584938  3.2338123  5.528773   ... 2.0243895  4.3621306  6.3857875 ]\n",
      "  ...\n",
      "  [1.6492925  1.4835947  1.6650604  ... 2.3154776  0.87608    0.8543335 ]\n",
      "  [6.2306514  7.324578   3.187983   ... 2.046173   1.794639   2.6868978 ]\n",
      "  [1.8481137  1.4104245  1.4879092  ... 1.6555399  0.6400337  0.83423305]]\n",
      "\n",
      " [[1.7858517  0.         0.         ... 0.         0.         1.5440044 ]\n",
      "  [0.88440037 0.         0.         ... 0.09728736 1.2225254  0.        ]\n",
      "  [2.2111716  0.7295412  3.8566332  ... 0.3129365  3.9986446  6.581839  ]\n",
      "  ...\n",
      "  [0.4817189  0.         0.         ... 0.04168516 0.         1.1300035 ]\n",
      "  [0.         0.         0.         ... 0.         0.         0.6798581 ]\n",
      "  [0.         0.         1.2156646  ... 0.         0.         0.        ]]\n",
      "\n",
      " [[0.7791131  1.0179651  1.1035043  ... 1.0819919  1.1234807  1.6286753 ]\n",
      "  [1.5182847  2.291483   1.9323097  ... 1.3074462  2.1454628  1.1048645 ]\n",
      "  [0.58603084 1.0335066  1.143608   ... 0.26969814 1.8272536  0.62347054]\n",
      "  ...\n",
      "  [0.5337808  0.428704   1.1201942  ... 1.9033363  0.8485847  0.48262164]\n",
      "  [0.05990705 0.9418491  0.6821133  ... 0.73200554 1.1545527  0.03068971]\n",
      "  [0.81028897 0.14887878 0.8094104  ... 1.9188931  0.         1.4281516 ]]\n",
      "\n",
      " ...\n",
      "\n",
      " [[0.         0.4103101  0.         ... 0.         0.         0.        ]\n",
      "  [2.3055542  0.52355343 2.902495   ... 0.2607057  0.         1.3040348 ]\n",
      "  [0.         0.         0.9534582  ... 0.         0.86839956 1.4192276 ]\n",
      "  ...\n",
      "  [0.         0.3441462  0.04780618 ... 0.8024411  1.5501688  0.        ]\n",
      "  [0.         0.36312744 0.70579046 ... 0.2734525  1.2334384  0.13525528]\n",
      "  [0.         0.         0.         ... 0.57741314 0.         0.        ]]\n",
      "\n",
      " [[1.8350415  0.06480318 1.6411947  ... 2.0579607  0.         2.8670022 ]\n",
      "  [1.0014273  0.         0.         ... 0.         0.         0.        ]\n",
      "  [2.0270839  0.11794212 2.3795326  ... 0.16359088 0.         0.5354838 ]\n",
      "  ...\n",
      "  [0.92436135 0.61314654 0.5631833  ... 3.0160425  1.0480146  0.52664995]\n",
      "  [0.32755923 0.38496187 0.27138048 ... 0.5565201  0.9544418  0.3424813 ]\n",
      "  [1.7863338  0.11887696 1.1728027  ... 0.7854195  0.56262916 1.7496928 ]]\n",
      "\n",
      " [[0.         0.         0.         ... 0.         0.         0.        ]\n",
      "  [0.         0.         0.         ... 0.         2.85422    0.        ]\n",
      "  [0.         0.         0.         ... 0.         0.8497373  0.        ]\n",
      "  ...\n",
      "  [1.4111892  0.         0.         ... 0.         0.21703617 0.13804458]\n",
      "  [1.5118496  0.         0.         ... 0.         0.         0.87161285]\n",
      "  [2.3007658  2.6551723  2.3754115  ... 0.3303251  2.1088417  0.        ]]]\n"
     ]
    }
   ],
   "source": [
    "with h5py.File(\"test.h5py\", \"r\") as f:\n",
    "    print(f['features'][0])\n",
    "    print(f['other'][0])"
   ]
  },
  {
   "cell_type": "code",
   "execution_count": null,
   "id": "9e2d9087-5a69-497f-87d6-450dfeadb1cd",
   "metadata": {},
   "outputs": [],
   "source": []
  },
  {
   "cell_type": "code",
   "execution_count": 5,
   "id": "fda34bee-9710-45dc-8008-bc02095c9aab",
   "metadata": {},
   "outputs": [
    {
     "name": "stdout",
     "output_type": "stream",
     "text": [
      "\u001b[0m\u001b[01;34mrot0\u001b[0m/  \u001b[01;34mrot180\u001b[0m/  \u001b[01;34mrot270\u001b[0m/  \u001b[01;34mrot90\u001b[0m/\n"
     ]
    }
   ],
   "source": [
    "ls ~/clevr-rotation"
   ]
  },
  {
   "cell_type": "code",
   "execution_count": 22,
   "id": "e73290f2-aeef-4034-9b52-1d018873cd81",
   "metadata": {},
   "outputs": [],
   "source": [
    "device = torch.device(\"cuda\")\n",
    "feature_extractor = ResnetFeatureExtractor(pretrained=True, fine_tune=False, number_blocks=3, avgpool=False, fc=False).to(device)\n",
    "preprocess = ResNet101_Weights.IMAGENET1K_V2.transforms()\n",
    "\n",
    "image_dir = \"/home/xappma/clevr-rotation/\"\n",
    "images = sorted(os.listdir(image_dir + 'rot0'))\n",
    "shape = [len(images), *feature_extractor.feature_shape]"
   ]
  },
  {
   "cell_type": "code",
   "execution_count": 23,
   "id": "b25d8ffa-3223-44bd-a533-2f8739f76e8c",
   "metadata": {},
   "outputs": [
    {
     "name": "stdout",
     "output_type": "stream",
     "text": [
      "processing image 192...\n"
     ]
    }
   ],
   "source": [
    "batch_size = 32\n",
    "\n",
    "with h5py.File(\"test.h5py\", \"w\") as f:\n",
    "    rot0_dataset = f.create_dataset(\"rot0\", shape, dtype=np.float32)\n",
    "    rot90_dataset = f.create_dataset(\"rot90\", shape, dtype=np.float32)\n",
    "    rot180_dataset = f.create_dataset(\"rot180\", shape, dtype=np.float32)\n",
    "    rot270_dataset = f.create_dataset(\"rot270\", shape, dtype=np.float32)\n",
    "\n",
    "    datasets = {'rot0': rot0_dataset, 'rot90': rot90_dataset, 'rot180': rot180_dataset, 'rot270': rot270_dataset}\n",
    "    img_size = Image.open(\n",
    "        os.path.join(image_dir, 'rot0', images[0])\n",
    "    ).size\n",
    "    for d in datasets.values():\n",
    "        d.attrs[\"image_size\"] = img_size \n",
    "\n",
    "    for rotation, dataset in datasets.items():\n",
    "        images = sorted(os.listdir(image_dir + rotation))\n",
    "        batch = []\n",
    "        i_start = 0\n",
    "        for image_index, image_file in enumerate(images):\n",
    "            if image_index % batch_size == 0:\n",
    "                print(f\"processing image {image_index}...\", end=\"\\r\")\n",
    "    \n",
    "            image = Image.open(os.path.join(image_dir, rotation, image_file)).convert(\n",
    "                \"RGB\"\n",
    "            )\n",
    "            preprocessed_image = preprocess(image).to(device)\n",
    "            batch.append(preprocessed_image)\n",
    "        \n",
    "            if len(batch) == batch_size or image_index == len(images) - 1:\n",
    "                with torch.no_grad():\n",
    "                    # pylint: disable-next=not-callable\n",
    "                    features = feature_extractor(torch.stack(batch)).cpu()\n",
    "                i_end = i_start + len(batch)\n",
    "                dataset[i_start:i_end] = features\n",
    "        \n",
    "                i_start = i_end\n",
    "                batch = []\n",
    "    print()"
   ]
  },
  {
   "cell_type": "code",
   "execution_count": 24,
   "id": "0bfa80e5-8117-42a3-acc8-4ad0880e4d71",
   "metadata": {},
   "outputs": [
    {
     "name": "stdout",
     "output_type": "stream",
     "text": [
      "[[[3.2667007e+00 1.9804718e+00 5.4867163e+00 ... 4.7759619e+00\n",
      "   2.6488540e+00 3.8716872e+00]\n",
      "  [7.9386778e+00 7.2455015e+00 8.5866747e+00 ... 5.1461329e+00\n",
      "   4.9513712e+00 8.6591339e+00]\n",
      "  [3.9532762e+00 4.1714735e+00 5.5034389e+00 ... 2.8516710e+00\n",
      "   3.7648771e+00 5.6911392e+00]\n",
      "  ...\n",
      "  [5.2508745e+00 3.5094647e+00 2.7807615e+00 ... 2.3141162e+00\n",
      "   1.9528351e+00 1.9380059e+00]\n",
      "  [6.8675318e+00 5.4736824e+00 4.3544488e+00 ... 3.0802040e+00\n",
      "   3.1041505e+00 2.5740082e+00]\n",
      "  [4.7065949e+00 3.9638441e+00 4.7066145e+00 ... 2.5681045e+00\n",
      "   1.6386139e+00 2.0963702e+00]]\n",
      "\n",
      " [[0.0000000e+00 0.0000000e+00 0.0000000e+00 ... 2.9370213e+00\n",
      "   0.0000000e+00 5.2613678e+00]\n",
      "  [1.3201824e-01 2.2842543e+00 0.0000000e+00 ... 4.7416210e-01\n",
      "   1.3833011e+00 0.0000000e+00]\n",
      "  [2.1585088e+00 0.0000000e+00 1.9286683e+00 ... 1.4459424e+00\n",
      "   4.1377940e+00 7.2262664e+00]\n",
      "  ...\n",
      "  [0.0000000e+00 0.0000000e+00 0.0000000e+00 ... 0.0000000e+00\n",
      "   0.0000000e+00 0.0000000e+00]\n",
      "  [5.0276864e-01 6.1952448e-03 1.3307932e-01 ... 4.5882142e-01\n",
      "   2.8179085e-01 1.8535439e+00]\n",
      "  [0.0000000e+00 2.0126438e-01 1.4770539e+00 ... 1.6061301e+00\n",
      "   1.3553579e-01 3.2587063e+00]]\n",
      "\n",
      " [[8.6671209e-01 9.3231291e-01 1.0903825e+00 ... 9.6623522e-01\n",
      "   1.0066754e+00 1.5996618e+00]\n",
      "  [1.2405317e+00 2.3426402e+00 2.1254928e+00 ... 3.2779138e+00\n",
      "   2.2525277e+00 1.1515546e+00]\n",
      "  [1.1886392e+00 1.1019117e+00 1.1083282e+00 ... 8.0677688e-01\n",
      "   3.6242149e+00 1.0973320e+00]\n",
      "  ...\n",
      "  [9.1819882e-01 6.5941995e-01 5.7836550e-01 ... 1.0801318e+00\n",
      "   3.6186141e-01 2.3995689e-01]\n",
      "  [6.5406770e-01 1.3782066e+00 8.2642496e-01 ... 4.8894949e-02\n",
      "   6.3206482e-01 0.0000000e+00]\n",
      "  [7.2016132e-01 3.5943821e-01 7.4035579e-01 ... 1.5823837e-01\n",
      "   0.0000000e+00 1.0198793e+00]]\n",
      "\n",
      " ...\n",
      "\n",
      " [[0.0000000e+00 0.0000000e+00 0.0000000e+00 ... 0.0000000e+00\n",
      "   0.0000000e+00 0.0000000e+00]\n",
      "  [1.0936837e+00 6.4367461e-01 2.8720827e+00 ... 8.7668085e-01\n",
      "   0.0000000e+00 1.6159779e+00]\n",
      "  [1.2769510e+00 1.0665545e-01 2.4250035e+00 ... 1.9290937e-01\n",
      "   1.7645609e+00 1.2182600e+00]\n",
      "  ...\n",
      "  [0.0000000e+00 0.0000000e+00 1.1107992e-01 ... 4.2270643e-01\n",
      "   3.0252674e-01 1.1504717e-01]\n",
      "  [0.0000000e+00 6.6506332e-01 2.2029498e+00 ... 0.0000000e+00\n",
      "   0.0000000e+00 0.0000000e+00]\n",
      "  [0.0000000e+00 0.0000000e+00 0.0000000e+00 ... 0.0000000e+00\n",
      "   0.0000000e+00 0.0000000e+00]]\n",
      "\n",
      " [[1.8071005e+00 8.7596662e-02 1.7378824e+00 ... 1.8076825e+00\n",
      "   0.0000000e+00 3.1661322e+00]\n",
      "  [0.0000000e+00 0.0000000e+00 2.0460418e-01 ... 0.0000000e+00\n",
      "   0.0000000e+00 0.0000000e+00]\n",
      "  [9.4310474e-01 0.0000000e+00 9.9813926e-01 ... 9.0705419e-01\n",
      "   6.0678124e-03 4.9299616e-01]\n",
      "  ...\n",
      "  [3.0325389e+00 1.6749859e-01 1.6786683e+00 ... 4.2507651e-01\n",
      "   3.7872034e-01 1.0526133e+00]\n",
      "  [9.9340236e-01 1.5814053e-02 0.0000000e+00 ... 8.7615818e-02\n",
      "   3.3948728e-01 3.3617145e-01]\n",
      "  [1.6802040e+00 0.0000000e+00 1.0287445e+00 ... 2.7928913e-01\n",
      "   2.7549403e-02 8.1365925e-01]]\n",
      "\n",
      " [[0.0000000e+00 0.0000000e+00 0.0000000e+00 ... 0.0000000e+00\n",
      "   0.0000000e+00 0.0000000e+00]\n",
      "  [0.0000000e+00 2.1815147e+00 0.0000000e+00 ... 0.0000000e+00\n",
      "   6.1904019e-01 0.0000000e+00]\n",
      "  [0.0000000e+00 0.0000000e+00 0.0000000e+00 ... 0.0000000e+00\n",
      "   3.9276809e-01 0.0000000e+00]\n",
      "  ...\n",
      "  [0.0000000e+00 0.0000000e+00 4.1385013e-01 ... 0.0000000e+00\n",
      "   0.0000000e+00 0.0000000e+00]\n",
      "  [0.0000000e+00 1.8629106e+00 0.0000000e+00 ... 5.2413732e-01\n",
      "   0.0000000e+00 1.1394707e+00]\n",
      "  [0.0000000e+00 0.0000000e+00 0.0000000e+00 ... 6.2913322e-01\n",
      "   1.0783581e+00 0.0000000e+00]]]\n"
     ]
    }
   ],
   "source": [
    "with h5py.File(\"test.h5py\", \"r\") as f:\n",
    "    print(f['rot0'][0])"
   ]
  },
  {
   "cell_type": "code",
   "execution_count": null,
   "id": "53e58a22-77d6-4eae-baa9-cbd44dc6cdfc",
   "metadata": {},
   "outputs": [],
   "source": []
  }
 ],
 "metadata": {
  "kernelspec": {
   "display_name": "Python 3 (ipykernel)",
   "language": "python",
   "name": "python3"
  },
  "language_info": {
   "codemirror_mode": {
    "name": "ipython",
    "version": 3
   },
   "file_extension": ".py",
   "mimetype": "text/x-python",
   "name": "python",
   "nbconvert_exporter": "python",
   "pygments_lexer": "ipython3",
   "version": "3.12.4"
  }
 },
 "nbformat": 4,
 "nbformat_minor": 5
}
