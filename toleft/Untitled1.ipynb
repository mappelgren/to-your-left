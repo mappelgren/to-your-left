{
 "cells": [
  {
   "cell_type": "code",
   "execution_count": 1,
   "id": "26805eb9-4032-4d7a-8f29-31444648eabc",
   "metadata": {},
   "outputs": [],
   "source": [
    "from game_player import play"
   ]
  },
  {
   "cell_type": "code",
   "execution_count": 6,
   "id": "39af21e8-227e-4fff-9299-d526c12b3037",
   "metadata": {},
   "outputs": [],
   "source": [
    "from test_metric import attention_loss"
   ]
  },
  {
   "cell_type": "code",
   "execution_count": 3,
   "id": "3b25a332-54d4-4d39-a625-69a6356ecfa0",
   "metadata": {},
   "outputs": [],
   "source": [
    "import test"
   ]
  },
  {
   "cell_type": "code",
   "execution_count": 4,
   "id": "5e632a7f-aff1-4f68-a466-879272c71faf",
   "metadata": {},
   "outputs": [
    {
     "ename": "AttributeError",
     "evalue": "module 'test' has no attribute 'attention_loss'",
     "output_type": "error",
     "traceback": [
      "\u001b[0;31m---------------------------------------------------------------------------\u001b[0m",
      "\u001b[0;31mAttributeError\u001b[0m                            Traceback (most recent call last)",
      "Cell \u001b[0;32mIn[4], line 1\u001b[0m\n\u001b[0;32m----> 1\u001b[0m \u001b[43mtest\u001b[49m\u001b[38;5;241;43m.\u001b[39;49m\u001b[43mattention_loss\u001b[49m\n",
      "\u001b[0;31mAttributeError\u001b[0m: module 'test' has no attribute 'attention_loss'"
     ]
    }
   ],
   "source": [
    "test.attention_loss"
   ]
  },
  {
   "cell_type": "code",
   "execution_count": 5,
   "id": "1b728df8-db5b-45ff-85b8-8d1803589175",
   "metadata": {},
   "outputs": [
    {
     "data": {
      "text/plain": [
       "<module 'test' from '/home/xappma/miniconda3/envs/toleft/lib/python3.12/test/__init__.py'>"
      ]
     },
     "execution_count": 5,
     "metadata": {},
     "output_type": "execute_result"
    }
   ],
   "source": [
    "test"
   ]
  },
  {
   "cell_type": "code",
   "execution_count": 2,
   "id": "857461ef-6789-49b8-ab87-fd300ff79a40",
   "metadata": {},
   "outputs": [
    {
     "name": "stdout",
     "output_type": "stream",
     "text": [
      "All feature files exist\n",
      "All feature files exist\n"
     ]
    },
    {
     "name": "stderr",
     "output_type": "stream",
     "text": [
      "/home/xappma/to-your-left/toleft/rotation_features.py:31: UserWarning: Creating a tensor from a list of numpy.ndarrays is extremely slow. Please consider converting the list to a single numpy.ndarray with numpy.array() before converting to a tensor. (Triggered internally at ../torch/csrc/utils/tensor_new.cpp:274.)\n",
      "  data = torch.FloatTensor(list(fc[key]))\n"
     ]
    },
    {
     "name": "stdout",
     "output_type": "stream",
     "text": [
      "{\"loss\": -0.44236916303634644, \"acc\": 0.49294355511665344, \"baseline\": -0.48614010214805603, \"sender_entropy\": 2.300964117050171, \"receiver_entropy\": 0.5506264567375183, \"mode\": \"train\", \"epoch\": 1}\n",
      "{\"loss\": -0.47891470789909363, \"acc\": 0.5211693644523621, \"baseline\": -0.49294349551200867, \"sender_entropy\": 2.299318790435791, \"receiver_entropy\": 0.5867799520492554, \"mode\": \"test\", \"epoch\": 1}\n",
      "{\"loss\": -0.5196644067764282, \"acc\": 0.5020161271095276, \"baseline\": -0.4954206347465515, \"sender_entropy\": 2.3003804683685303, \"receiver_entropy\": 0.4283406436443329, \"mode\": \"train\", \"epoch\": 2}\n",
      "{\"loss\": -0.5592405796051025, \"acc\": 0.47681450843811035, \"baseline\": -0.49747979640960693, \"sender_entropy\": 2.300748109817505, \"receiver_entropy\": 0.4646448791027069, \"mode\": \"test\", \"epoch\": 2}\n",
      "{\"loss\": -0.5084261298179626, \"acc\": 0.4979838728904724, \"baseline\": -0.4982758164405823, \"sender_entropy\": 2.2986903190612793, \"receiver_entropy\": 0.3838541507720947, \"mode\": \"train\", \"epoch\": 3}\n",
      "{\"loss\": -0.5326619744300842, \"acc\": 0.49193549156188965, \"baseline\": -0.4976479113101959, \"sender_entropy\": 2.300654172897339, \"receiver_entropy\": 0.3634558618068695, \"mode\": \"test\", \"epoch\": 3}\n",
      "{\"loss\": -0.5305335521697998, \"acc\": 0.5020161271095276, \"baseline\": -0.5002415180206299, \"sender_entropy\": 2.3019864559173584, \"receiver_entropy\": 0.3750583529472351, \"mode\": \"train\", \"epoch\": 4}\n",
      "{\"loss\": -0.505700409412384, \"acc\": 0.5120967626571655, \"baseline\": -0.49873992800712585, \"sender_entropy\": 2.3023898601531982, \"receiver_entropy\": 0.3985822796821594, \"mode\": \"test\", \"epoch\": 4}\n",
      "{\"loss\": -0.48971250653266907, \"acc\": 0.5161290168762207, \"baseline\": -0.5008329153060913, \"sender_entropy\": 2.3023595809936523, \"receiver_entropy\": 0.3392736315727234, \"mode\": \"train\", \"epoch\": 5}\n",
      "{\"loss\": -0.5072235465049744, \"acc\": 0.5171371102333069, \"baseline\": -0.5022176504135132, \"sender_entropy\": 2.3023624420166016, \"receiver_entropy\": 0.40317603945732117, \"mode\": \"test\", \"epoch\": 5}\n",
      "{\"loss\": -0.5224155187606812, \"acc\": 0.5050403475761414, \"baseline\": -0.5016615986824036, \"sender_entropy\": 2.3021209239959717, \"receiver_entropy\": 0.314688116312027, \"mode\": \"train\", \"epoch\": 6}\n",
      "{\"loss\": -0.49855679273605347, \"acc\": 0.5282257795333862, \"baseline\": -0.5026881098747253, \"sender_entropy\": 2.3017184734344482, \"receiver_entropy\": 0.36886730790138245, \"mode\": \"test\", \"epoch\": 6}\n",
      "{\"loss\": -0.505973756313324, \"acc\": 0.5272177457809448, \"baseline\": -0.504890501499176, \"sender_entropy\": 2.2990357875823975, \"receiver_entropy\": 0.2978338599205017, \"mode\": \"train\", \"epoch\": 7}\n",
      "{\"loss\": -0.4359199106693268, \"acc\": 0.6058467626571655, \"baseline\": -0.5061922669410706, \"sender_entropy\": 2.29284930229187, \"receiver_entropy\": 0.3274941146373749, \"mode\": \"test\", \"epoch\": 7}\n",
      "{\"loss\": -0.5270440578460693, \"acc\": 0.569556474685669, \"baseline\": -0.5098642706871033, \"sender_entropy\": 2.246701955795288, \"receiver_entropy\": 0.2698545455932617, \"mode\": \"train\", \"epoch\": 8}\n",
      "{\"loss\": -0.35834258794784546, \"acc\": 0.9022177457809448, \"baseline\": -0.5141128301620483, \"sender_entropy\": 2.12009859085083, \"receiver_entropy\": 0.17575258016586304, \"mode\": \"test\", \"epoch\": 8}\n",
      "{\"loss\": -0.5910520553588867, \"acc\": 0.7439516186714172, \"baseline\": -0.525821328163147, \"sender_entropy\": 1.789161205291748, \"receiver_entropy\": 0.19886013865470886, \"mode\": \"train\", \"epoch\": 9}\n",
      "{\"loss\": -0.6737392544746399, \"acc\": 0.930443525314331, \"baseline\": -0.539650559425354, \"sender_entropy\": 1.3981437683105469, \"receiver_entropy\": 0.14249232411384583, \"mode\": \"test\", \"epoch\": 9}\n",
      "{\"loss\": -0.651546061038971, \"acc\": 0.8870967626571655, \"baseline\": -0.5581238865852356, \"sender_entropy\": 1.2788704633712769, \"receiver_entropy\": 0.12436038255691528, \"mode\": \"train\", \"epoch\": 10}\n",
      "{\"loss\": -0.7563275694847107, \"acc\": 0.9254032373428345, \"baseline\": -0.5743950605392456, \"sender_entropy\": 1.0242486000061035, \"receiver_entropy\": 0.10412745922803879, \"mode\": \"test\", \"epoch\": 10}\n"
     ]
    }
   ],
   "source": [
    "play('one_colour_square', 'one_colour_square_valid')"
   ]
  },
  {
   "cell_type": "code",
   "execution_count": null,
   "id": "57313282-1606-4dba-91ce-7bea4aabee8c",
   "metadata": {},
   "outputs": [],
   "source": []
  }
 ],
 "metadata": {
  "kernelspec": {
   "display_name": "Python 3 (ipykernel)",
   "language": "python",
   "name": "python3"
  },
  "language_info": {
   "codemirror_mode": {
    "name": "ipython",
    "version": 3
   },
   "file_extension": ".py",
   "mimetype": "text/x-python",
   "name": "python",
   "nbconvert_exporter": "python",
   "pygments_lexer": "ipython3",
   "version": "3.12.4"
  }
 },
 "nbformat": 4,
 "nbformat_minor": 5
}
