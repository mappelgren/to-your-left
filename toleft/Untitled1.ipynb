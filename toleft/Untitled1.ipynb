{
 "cells": [
  {
   "cell_type": "code",
   "execution_count": 1,
   "id": "26805eb9-4032-4d7a-8f29-31444648eabc",
   "metadata": {},
   "outputs": [
    {
     "ename": "ImportError",
     "evalue": "cannot import name 'attention_loss' from 'test' (/home/xappma/miniconda3/envs/toleft/lib/python3.12/test/__init__.py)",
     "output_type": "error",
     "traceback": [
      "\u001b[0;31m---------------------------------------------------------------------------\u001b[0m",
      "\u001b[0;31mImportError\u001b[0m                               Traceback (most recent call last)",
      "Cell \u001b[0;32mIn[1], line 1\u001b[0m\n\u001b[0;32m----> 1\u001b[0m \u001b[38;5;28;01mfrom\u001b[39;00m \u001b[38;5;21;01mplay\u001b[39;00m \u001b[38;5;28;01mimport\u001b[39;00m play\n",
      "File \u001b[0;32m~/to-your-left/toleft/play.py:20\u001b[0m\n\u001b[1;32m     17\u001b[0m \u001b[38;5;28;01mfrom\u001b[39;00m \u001b[38;5;21;01mtyping\u001b[39;00m \u001b[38;5;28;01mimport\u001b[39;00m Callable\n\u001b[1;32m     19\u001b[0m \u001b[38;5;28;01mfrom\u001b[39;00m \u001b[38;5;21;01mdata_readers\u001b[39;00m \u001b[38;5;28;01mimport\u001b[39;00m SingleObjectImageMasker, DaleCaptionAttributeEncoder\n\u001b[0;32m---> 20\u001b[0m \u001b[38;5;28;01mfrom\u001b[39;00m \u001b[38;5;21;01mtest\u001b[39;00m \u001b[38;5;28;01mimport\u001b[39;00m attention_loss\n\u001b[1;32m     21\u001b[0m \u001b[38;5;28;01mfrom\u001b[39;00m \u001b[38;5;21;01mshared_models\u001b[39;00m \u001b[38;5;28;01mimport\u001b[39;00m ClevrImageEncoder\n\u001b[1;32m     22\u001b[0m \u001b[38;5;28;01mfrom\u001b[39;00m \u001b[38;5;21;01mutil\u001b[39;00m \u001b[38;5;28;01mimport\u001b[39;00m Persistor, get_model_params, set_model_params, colors\n",
      "\u001b[0;31mImportError\u001b[0m: cannot import name 'attention_loss' from 'test' (/home/xappma/miniconda3/envs/toleft/lib/python3.12/test/__init__.py)"
     ]
    }
   ],
   "source": [
    "from play import play"
   ]
  },
  {
   "cell_type": "code",
   "execution_count": 6,
   "id": "39af21e8-227e-4fff-9299-d526c12b3037",
   "metadata": {},
   "outputs": [],
   "source": [
    "from test_metric import attention_loss"
   ]
  },
  {
   "cell_type": "code",
   "execution_count": 3,
   "id": "3b25a332-54d4-4d39-a625-69a6356ecfa0",
   "metadata": {},
   "outputs": [],
   "source": [
    "import test"
   ]
  },
  {
   "cell_type": "code",
   "execution_count": 4,
   "id": "5e632a7f-aff1-4f68-a466-879272c71faf",
   "metadata": {},
   "outputs": [
    {
     "ename": "AttributeError",
     "evalue": "module 'test' has no attribute 'attention_loss'",
     "output_type": "error",
     "traceback": [
      "\u001b[0;31m---------------------------------------------------------------------------\u001b[0m",
      "\u001b[0;31mAttributeError\u001b[0m                            Traceback (most recent call last)",
      "Cell \u001b[0;32mIn[4], line 1\u001b[0m\n\u001b[0;32m----> 1\u001b[0m \u001b[43mtest\u001b[49m\u001b[38;5;241;43m.\u001b[39;49m\u001b[43mattention_loss\u001b[49m\n",
      "\u001b[0;31mAttributeError\u001b[0m: module 'test' has no attribute 'attention_loss'"
     ]
    }
   ],
   "source": [
    "test.attention_loss"
   ]
  },
  {
   "cell_type": "code",
   "execution_count": 5,
   "id": "1b728df8-db5b-45ff-85b8-8d1803589175",
   "metadata": {},
   "outputs": [
    {
     "data": {
      "text/plain": [
       "<module 'test' from '/home/xappma/miniconda3/envs/toleft/lib/python3.12/test/__init__.py'>"
      ]
     },
     "execution_count": 5,
     "metadata": {},
     "output_type": "execute_result"
    }
   ],
   "source": [
    "test"
   ]
  },
  {
   "cell_type": "code",
   "execution_count": null,
   "id": "857461ef-6789-49b8-ab87-fd300ff79a40",
   "metadata": {},
   "outputs": [],
   "source": []
  }
 ],
 "metadata": {
  "kernelspec": {
   "display_name": "Python 3 (ipykernel)",
   "language": "python",
   "name": "python3"
  },
  "language_info": {
   "codemirror_mode": {
    "name": "ipython",
    "version": 3
   },
   "file_extension": ".py",
   "mimetype": "text/x-python",
   "name": "python",
   "nbconvert_exporter": "python",
   "pygments_lexer": "ipython3",
   "version": "3.12.4"
  }
 },
 "nbformat": 4,
 "nbformat_minor": 5
}
