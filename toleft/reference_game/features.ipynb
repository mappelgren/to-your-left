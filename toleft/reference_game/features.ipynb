{
 "cells": [
  {
   "cell_type": "code",
   "execution_count": 8,
   "id": "initial_id",
   "metadata": {},
   "outputs": [],
   "source": [
    "\n",
    "from toleft.reference_game.features import ImageNetFeat\n",
    "\n",
    "import os\n",
    "\n",
    "import numpy as np\n",
    "import torch\n",
    "import torch.nn.parallel\n",
    "import torch.utils.data as data\n",
    "import argparse\n"
   ]
  },
  {
   "cell_type": "code",
   "execution_count": 2,
   "id": "9ab26211-7ed6-453f-818e-4d0b1579f49f",
   "metadata": {},
   "outputs": [],
   "source": [
    "base_dir = '/home/xappma/to-your-left/signaling_game_data'"
   ]
  },
  {
   "cell_type": "code",
   "execution_count": 3,
   "id": "047a9e8f-b53f-40c9-8b2d-4ef52c7f2b82",
   "metadata": {},
   "outputs": [
    {
     "name": "stderr",
     "output_type": "stream",
     "text": [
      "/home/xappma/to-your-left/source/mlt/language_games/toleft/reference_game/features.py:109: UserWarning: Creating a tensor from a list of numpy.ndarrays is extremely slow. Please consider converting the list to a single numpy.ndarray with numpy.array() before converting to a tensor. (Triggered internally at ../torch/csrc/utils/tensor_new.cpp:274.)\n",
      "  data = torch.FloatTensor(list(fc[key]))\n"
     ]
    }
   ],
   "source": [
    "f = ImageNetFeat(os.path.join(base_dir, 'train'))"
   ]
  },
  {
   "cell_type": "code",
   "execution_count": 5,
   "id": "a70ca48f-576b-40ff-9ad4-a89e44d7e170",
   "metadata": {
    "scrolled": true
   },
   "outputs": [
    {
     "data": {
      "text/plain": [
       "{'labels': 'accordion',\n",
       " 'ims': [0,\n",
       "  1,\n",
       "  2,\n",
       "  3,\n",
       "  4,\n",
       "  5,\n",
       "  6,\n",
       "  7,\n",
       "  8,\n",
       "  9,\n",
       "  10,\n",
       "  11,\n",
       "  12,\n",
       "  13,\n",
       "  14,\n",
       "  15,\n",
       "  16,\n",
       "  17,\n",
       "  18,\n",
       "  19,\n",
       "  20,\n",
       "  21,\n",
       "  22,\n",
       "  23,\n",
       "  24,\n",
       "  25,\n",
       "  26,\n",
       "  27,\n",
       "  28,\n",
       "  29,\n",
       "  30,\n",
       "  31,\n",
       "  32,\n",
       "  33,\n",
       "  34,\n",
       "  35,\n",
       "  36,\n",
       "  37,\n",
       "  38,\n",
       "  39,\n",
       "  40,\n",
       "  41,\n",
       "  42,\n",
       "  43,\n",
       "  44,\n",
       "  45,\n",
       "  46,\n",
       "  47,\n",
       "  48,\n",
       "  49,\n",
       "  50,\n",
       "  51,\n",
       "  52,\n",
       "  53,\n",
       "  54,\n",
       "  55,\n",
       "  56,\n",
       "  57,\n",
       "  58,\n",
       "  59,\n",
       "  60,\n",
       "  61,\n",
       "  62,\n",
       "  63,\n",
       "  64,\n",
       "  65,\n",
       "  66,\n",
       "  67,\n",
       "  68,\n",
       "  69,\n",
       "  70,\n",
       "  71,\n",
       "  72,\n",
       "  73,\n",
       "  74,\n",
       "  75,\n",
       "  76,\n",
       "  77,\n",
       "  78,\n",
       "  79,\n",
       "  80,\n",
       "  81,\n",
       "  82,\n",
       "  83,\n",
       "  84,\n",
       "  85,\n",
       "  86,\n",
       "  87,\n",
       "  88,\n",
       "  89,\n",
       "  90,\n",
       "  91,\n",
       "  92,\n",
       "  93,\n",
       "  94,\n",
       "  95,\n",
       "  96,\n",
       "  97,\n",
       "  98,\n",
       "  99]}"
      ]
     },
     "execution_count": 5,
     "metadata": {},
     "output_type": "execute_result"
    }
   ],
   "source": [
    "f.obj2id[0]"
   ]
  },
  {
   "cell_type": "code",
   "execution_count": null,
   "id": "e3a49151-075b-4817-98b5-9960e70da932",
   "metadata": {},
   "outputs": [],
   "source": []
  },
  {
   "cell_type": "code",
   "execution_count": null,
   "id": "62a81491-02b3-47d2-a8b3-d8a034067258",
   "metadata": {},
   "outputs": [],
   "source": []
  },
  {
   "cell_type": "code",
   "execution_count": 88,
   "id": "dc0e80e1-1adc-41ea-8577-7349894536bc",
   "metadata": {},
   "outputs": [],
   "source": [
    "class RotFeat(data.Dataset):\n",
    "    def __init__(self, root='/home/xappma/spatial-dataset/features',  train=True):\n",
    "        import h5py\n",
    "\n",
    "        self.root = os.path.expanduser(root)\n",
    "        self.train = train  # training set or test set\n",
    "\n",
    "        # FC features\n",
    "        flat_features = []\n",
    "        features = {}\n",
    "        for target in ['target', 'distractor']:\n",
    "            for rot in ['rot0', 'rot90', 'rot180', 'rot270']:\n",
    "                fc_file = os.path.join(root, f'new-vgg-layers-2-{target}-{rot}.h5')\n",
    "                fc = h5py.File(fc_file, 'r')\n",
    "                key = list(fc.keys())[0]\n",
    "                data = torch.FloatTensor(list(fc[key]))\n",
    "                # img_norm = torch.norm(data, p=2, dim=1, keepdim=True)\n",
    "                # normed_data = data / img_norm\n",
    "                # features[(target, rot)] = normed_data\n",
    "                features[(target, rot)] = data\n",
    "\n",
    "        # normalise data\n",
    "\n",
    "        self.features = features\n",
    "        self.create_obj2id(features)\n",
    "        data = self.flat_features\n",
    "        img_norm = torch.norm(data, p=2, dim=1, keepdim=True)\n",
    "        normed_data = data / img_norm\n",
    "        self.flat_features = normed_data\n",
    "\n",
    "        target_to_idx = {'target':1, 'distractor':0}\n",
    "        rotation_to_idx = {'rot0':0, 'rot90':1, 'rot180':2, 'rot270':3}\n",
    "        \n",
    "        for t, r in features.keys():\n",
    "            x = int(t == 'target')\n",
    "            \n",
    "            self.features[(t,r)] = self.flat_features[self.obj2id[target_to_idx[t]][rotation_to_idx[r]]['ims']]\n",
    "\n",
    "    def __getitem__(self, index):\n",
    "        return self.flat_features[index], index\n",
    "\n",
    "    def __len__(self):\n",
    "        return self.flat_features.size(0)\n",
    "\n",
    "    def create_obj2id(self, feature_dict):\n",
    "\n",
    "        self.obj2id = {}\n",
    "        keys = {}\n",
    "        rot_keys = {}\n",
    "        idx_label = 0\n",
    "        flat_features = None\n",
    "        for i, (target, rot) in enumerate(feature_dict.keys()):\n",
    "            if rot == 'rot0':\n",
    "                r = 0\n",
    "            elif rot == 'rot90':\n",
    "                r = 1\n",
    "            elif rot == 'rot180':\n",
    "                r = 2\n",
    "            else:\n",
    "                r = 3\n",
    "            \n",
    "            if target not in keys:\n",
    "                if target == 'target':\n",
    "                    key = 1\n",
    "                else:\n",
    "                    key = 0\n",
    "                keys[target] = key\n",
    "                self.obj2id[key] = [{'labels':(target, 'rot0'), 'ims':[]},\n",
    "                                    {'labels':(target, 'rot90'), 'ims':[]}, \n",
    "                                    {'labels':(target, 'rot180'), 'ims':[]}, \n",
    "                                    {'labels':(target, 'rot270'), 'ims':[]}]\n",
    "\n",
    "            end = idx_label + len(feature_dict[(target, rot)])\n",
    "            self.obj2id[keys[target]][r]['ims'] = np.array(list(range(idx_label, end)))\n",
    "            idx_label = end\n",
    "            if flat_features is None:\n",
    "                flat_features = feature_dict[(target, rot)]\n",
    "            else:\n",
    "                flat_features = torch.cat((flat_features, feature_dict[(target, rot)]))\n",
    "        self.flat_features = flat_features"
   ]
  },
  {
   "cell_type": "code",
   "execution_count": 89,
   "id": "d0d047b6-578f-4097-985a-8dcec72bcd4f",
   "metadata": {},
   "outputs": [],
   "source": [
    "dataset = RotFeat()"
   ]
  },
  {
   "cell_type": "code",
   "execution_count": 20,
   "id": "69b32cc3-ed49-48a2-9df6-2338d3d75830",
   "metadata": {},
   "outputs": [],
   "source": [
    "assert(all(r.flat_features[r.obj2id[1][0]['ims'][20]] == r.features[('target', 'rot0')][20]))\n",
    "assert(all(r.flat_features[r.obj2id[1][2]['ims'][20]] == r.features[('target', 'rot180')][20]))\n",
    "assert(all(r.flat_features[r.obj2id[0][2]['ims'][20]] == r.features[('distractor', 'rot180')][20]))"
   ]
  },
  {
   "cell_type": "code",
   "execution_count": 109,
   "id": "96425c82-f9d4-4e4e-9ba7-582ccb6a49cc",
   "metadata": {},
   "outputs": [],
   "source": [
    "class _BatchIterator:\n",
    "    def __init__(self, loader, n_batches, seed=None):\n",
    "        self.loader = loader\n",
    "        self.n_batches = n_batches\n",
    "        self.batches_generated = 0\n",
    "        self.random_state = np.random.RandomState(seed)\n",
    "\n",
    "    def __iter__(self):\n",
    "        return self\n",
    "\n",
    "    def __next__(self):\n",
    "        if self.batches_generated > self.n_batches:\n",
    "            raise StopIteration()\n",
    "\n",
    "        batch_data = self.get_batch()\n",
    "        self.batches_generated += 1\n",
    "        return batch_data\n",
    "\n",
    "    def get_batch(self):\n",
    "        loader = self.loader\n",
    "        opt = loader.opt\n",
    "\n",
    "        # C = len(self.loader.dataset.obj2id.keys())  # number of concepts\n",
    "        images_indexes_sender = np.zeros((opt.batch_size, opt.game_size))\n",
    "        \n",
    "        target_ims = loader.dataset.obj2id[1][0]['ims'] # get the target image with rotation 0\n",
    "        distractor_ims = loader.dataset.obj2id[0][0]['ims']\n",
    "\n",
    "        assert(target_ims[0] != distractor_ims[0])\n",
    "                \n",
    "        idxs = self.random_state.choice(list(range(len(target_ims))), opt.batch_size).astype(int)\n",
    "        # print('idx', len(idxs))      \n",
    "        \n",
    "        target = target_ims[idxs]\n",
    "        distractor = distractor_ims[idxs]\n",
    "\n",
    "        # print('target', target.shape)\n",
    "\n",
    "        assert(target[0] != distractor[0])\n",
    "        \n",
    "        images_indexes_sender[:, 1] = target\n",
    "        images_indexes_sender[:, 0] = distractor\n",
    "\n",
    "        print('sender indexes', images_indexes_sender.shape)\n",
    "        \n",
    "        images_vectors_sender = []\n",
    "\n",
    "        for i in range(opt.game_size):\n",
    "            x = loader.dataset.flat_features[images_indexes_sender[:, i]]\n",
    "            images_vectors_sender.append(x)\n",
    "\n",
    "        images_vectors_sender = torch.stack(images_vectors_sender).contiguous()\n",
    "\n",
    "        print('images vector', images_vectors_sender.shape)\n",
    "        \n",
    "        y = torch.zeros(opt.batch_size).long()\n",
    "\n",
    "        print('y', y.shape)\n",
    "        \n",
    "        images_vectors_receiver = torch.zeros_like(images_vectors_sender)\n",
    "        for i in range(opt.batch_size):\n",
    "            permutation = torch.randperm(opt.game_size)\n",
    "\n",
    "            # print(permutation)\n",
    "            \n",
    "            images_vectors_receiver[:, i, :] = images_vectors_sender[permutation, i, :]\n",
    "            y[i] = permutation.argmin()\n",
    "\n",
    "        return images_vectors_sender, y, images_vectors_receiver\n",
    "\n",
    "\n",
    "\n",
    "class RotationLoader(torch.utils.data.DataLoader):\n",
    "    def __init__(self, *args, **kwargs):\n",
    "        self.opt = kwargs.pop(\"opt\")\n",
    "        self.seed = kwargs.pop(\"seed\")\n",
    "        self.batches_per_epoch = kwargs.pop(\"batches_per_epoch\")\n",
    "\n",
    "        super(RotationLoader, self).__init__(*args, **kwargs)\n",
    "\n",
    "    def __iter__(self):\n",
    "        if self.seed is None:\n",
    "            seed = np.random.randint(0, 2 ** 32)\n",
    "        else:\n",
    "            seed = self.seed\n",
    "        return _BatchIterator(self, n_batches=self.batches_per_epoch, seed=seed)\n"
   ]
  },
  {
   "cell_type": "code",
   "execution_count": null,
   "id": "2e3394ec-7dbc-4fe4-8dc7-7c82d7471124",
   "metadata": {},
   "outputs": [],
   "source": []
  },
  {
   "cell_type": "code",
   "execution_count": null,
   "id": "f2cb7925-0fb0-4ec4-97ef-1862cdf1dd87",
   "metadata": {},
   "outputs": [],
   "source": []
  },
  {
   "cell_type": "code",
   "execution_count": 110,
   "id": "6c5f9a1a-e4df-4697-aaed-5493809201b5",
   "metadata": {},
   "outputs": [],
   "source": [
    "class Args(argparse.Namespace):\n",
    "  batch_size = 32\n",
    "  game_size = 2\n",
    "\n",
    "args=Args()\n",
    "\n",
    "l = RotationLoader(opt=args, seed=3, batches_per_epoch=50, dataset=dataset)"
   ]
  },
  {
   "cell_type": "code",
   "execution_count": null,
   "id": "e48f4c17-a860-463e-a43a-02a6f81cabcb",
   "metadata": {},
   "outputs": [],
   "source": []
  },
  {
   "cell_type": "code",
   "execution_count": 112,
   "id": "32dae3db-d5d8-4ba8-9458-dd8140173752",
   "metadata": {},
   "outputs": [
    {
     "name": "stdout",
     "output_type": "stream",
     "text": [
      "sender indexes (32, 2)\n",
      "images vector torch.Size([2, 32, 4096])\n",
      "y torch.Size([32])\n",
      "tensor([-0.0248, -0.0127,  0.0027,  ..., -0.0025, -0.0217,  0.0226]) tensor([-0.0276, -0.0116,  0.0002,  ..., -0.0051, -0.0221,  0.0190])\n",
      "tensor([-0.0248, -0.0127,  0.0027,  ..., -0.0025, -0.0217,  0.0226]) tensor([-0.0276, -0.0116,  0.0002,  ..., -0.0051, -0.0221,  0.0190])\n",
      "tensor(0)\n",
      "\n",
      "tensor([-0.0331,  0.0073,  0.0079,  ...,  0.0034, -0.0145,  0.0035]) tensor([-0.0331,  0.0009,  0.0141,  ..., -0.0039, -0.0177,  0.0066])\n",
      "tensor([-0.0331,  0.0009,  0.0141,  ..., -0.0039, -0.0177,  0.0066]) tensor([-0.0331,  0.0073,  0.0079,  ...,  0.0034, -0.0145,  0.0035])\n",
      "tensor(1)\n",
      "\n",
      "tensor([-0.0386, -0.0056,  0.0203,  ..., -0.0058, -0.0184,  0.0072]) tensor([-0.0264, -0.0049,  0.0139,  ...,  0.0021, -0.0191,  0.0053])\n",
      "tensor([-0.0386, -0.0056,  0.0203,  ..., -0.0058, -0.0184,  0.0072]) tensor([-0.0264, -0.0049,  0.0139,  ...,  0.0021, -0.0191,  0.0053])\n",
      "tensor(0)\n",
      "\n"
     ]
    }
   ],
   "source": [
    "for batch in l:\n",
    "    s, y, r = batch\n",
    "    for i in range(len(batch)):\n",
    "        print(s[0][i], s[1][i])\n",
    "        print(r[0][i], r[1][i])\n",
    "        \n",
    "        print(y[i])\n",
    "        print()\n",
    "    break"
   ]
  },
  {
   "cell_type": "code",
   "execution_count": 104,
   "id": "2eb11c07-2ebb-4989-9d5a-5795f066a1c8",
   "metadata": {},
   "outputs": [
    {
     "data": {
      "text/plain": [
       "32"
      ]
     },
     "execution_count": 104,
     "metadata": {},
     "output_type": "execute_result"
    }
   ],
   "source": [
    "a, b = batch[0][:, 1, :]\n",
    "all(a == b)\n",
    "len(batch[0][0])"
   ]
  },
  {
   "cell_type": "code",
   "execution_count": null,
   "id": "7f58108e-4f7c-42d9-946e-3a26ba278438",
   "metadata": {},
   "outputs": [],
   "source": []
  },
  {
   "cell_type": "code",
   "execution_count": 50,
   "id": "6f4f7a1c-9610-46a1-94b3-3711fe888203",
   "metadata": {},
   "outputs": [
    {
     "data": {
      "text/plain": [
       "True"
      ]
     },
     "execution_count": 50,
     "metadata": {},
     "output_type": "execute_result"
    }
   ],
   "source": [
    "all(a == b)"
   ]
  },
  {
   "cell_type": "code",
   "execution_count": 84,
   "id": "278acd7e-c9d4-4e52-a3ae-a23d8f7c912b",
   "metadata": {},
   "outputs": [
    {
     "data": {
      "text/plain": [
       "array([3, 2])"
      ]
     },
     "execution_count": 84,
     "metadata": {},
     "output_type": "execute_result"
    }
   ],
   "source": [
    "state = np.random.RandomState(3)\n",
    "np.array([1,2,3,4,5])[state.choice([1,2, 3], 2, replace=False)]"
   ]
  },
  {
   "cell_type": "code",
   "execution_count": 82,
   "id": "699b0948-25fb-40c7-a924-b4c01a7719b2",
   "metadata": {},
   "outputs": [
    {
     "data": {
      "text/plain": [
       "array([1, 3])"
      ]
     },
     "execution_count": 82,
     "metadata": {},
     "output_type": "execute_result"
    }
   ],
   "source": [
    "state.choice([1,2, 3], 2, replace=False).astype(int)"
   ]
  },
  {
   "cell_type": "code",
   "execution_count": null,
   "id": "decfc7b7-99e4-4523-9879-0c87da643dd7",
   "metadata": {},
   "outputs": [],
   "source": []
  }
 ],
 "metadata": {
  "kernelspec": {
   "display_name": "Python 3 (ipykernel)",
   "language": "python",
   "name": "python3"
  },
  "language_info": {
   "codemirror_mode": {
    "name": "ipython",
    "version": 3
   },
   "file_extension": ".py",
   "mimetype": "text/x-python",
   "name": "python",
   "nbconvert_exporter": "python",
   "pygments_lexer": "ipython3",
   "version": "3.12.4"
  }
 },
 "nbformat": 4,
 "nbformat_minor": 5
}
